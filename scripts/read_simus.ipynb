{
 "cells": [
  {
   "cell_type": "code",
   "execution_count": 49,
   "metadata": {},
   "outputs": [],
   "source": [
    "from sradio.io.shower.zhaires_master import ZhairesMaster\n",
    "import re\n",
    "import numpy as np\n",
    "import subprocess"
   ]
  },
  {
   "attachments": {},
   "cell_type": "markdown",
   "metadata": {},
   "source": [
    "Function to find the event number associated to the simulation.\n",
    "\n",
    "Input : input directory of the simulation\n",
    "\n",
    "Note : the event number is the last sequence of numbers in the name of the directory"
   ]
  },
  {
   "cell_type": "code",
   "execution_count": 50,
   "metadata": {},
   "outputs": [],
   "source": [
    "def EventNumber(input_directory):\n",
    "    last_numbers = re.search(r'\\d+/$', input_directory)\n",
    "    if last_numbers:\n",
    "        eventnumber = last_numbers.group(0)\n",
    "        eventnumber = [eventnumber.rstrip('/')]\n",
    "        return eventnumber\n",
    "    else:\n",
    "        return None"
   ]
  },
  {
   "attachments": {},
   "cell_type": "markdown",
   "metadata": {},
   "source": [
    "Read simulation files and extract relevant parameters for reconstruction.\n",
    "\n",
    "A filter is applied on the frequencry range [50, 200] MHz.\n",
    "\n",
    "Two conditions are applied to keep the traces : at least 5 antennas have to be triggered and we keep only the traces where the signal is > 150 $\\mu V/m$\n",
    "\n",
    "Inputs : -simulation directory (that contains the hdf5 file and the other files)\n",
    "\n",
    "-antenna threshold and amplitude threshold\n",
    "\n",
    "Outputs : -a numpy array AntennaParameters : [antenna_index, peaktime, peakamplitude, x, y, z]   \n",
    "\n",
    "-a dictionnary ShowerParameters : {t_sample_ns, x_max:{alt, dist, x, y, z}, sl_depth_of_max, ground_altitude, vers_zhaires, primary, site:{name, lat, long}, geo_mag1:{norm}, geo_mag2:{inc, decl}, energy, shower_zenith, shower_azimuth}\n"
   ]
  },
  {
   "cell_type": "code",
   "execution_count": 51,
   "metadata": {},
   "outputs": [],
   "source": [
    "def GetSimulationReconstructionParameters(input_directory, antennathreshold, amplitudethreshold):\n",
    "    d_event = ZhairesMaster(input_directory)\n",
    "    event = d_event.get_object_3dtraces()\n",
    "    event.traces = event.get_traces_passband([50,200])\n",
    "    idx = event.remove_traces_low_signal(amplitudethreshold)\n",
    "    peaktime= event.get_tmax_vmax()[0]*1e-9 #convert from ns to s\n",
    "    peakamplitude = event.get_tmax_vmax()[1]\n",
    "    antennas = d_event.f_zhaires\n",
    "    antennas.read_antpos_file()\n",
    "    antennas.ants['idx'] = antennas.ants['idx']-1\n",
    "    index =np.isin(antennas.ants['idx'], idx)\n",
    "    if len(peaktime) > antennathreshold:\n",
    "        antenna_x = antennas.ants[index]['x']\n",
    "        antenna_y = antennas.ants[index]['y']\n",
    "        antenna_z = antennas.ants[index]['z']\n",
    "        antenna_parameters = np.array([idx, peaktime, peakamplitude, antenna_x, antenna_y, antenna_z]).T\n",
    "        shower_parameters = d_event.get_simu_info()\n",
    "    else:\n",
    "        print(\"Not enough antennas above threshold for issuing a T2 trigger\")\n",
    "    return antenna_parameters, shower_parameters\n"
   ]
  },
  {
   "attachments": {},
   "cell_type": "markdown",
   "metadata": {},
   "source": [
    "Write the coord_antennas table for the GRAND reconstruction software\n",
    "\n",
    "Inputs : -file name (coord_antennas.txt) and directory\n",
    "\n",
    "-antenna parameters array : [antenna_index, peaktime, peakamplitude, x, y, z] \n",
    "\n",
    "Output : return 0 and create a text file with id, x (m), y (m), z (m)\n",
    "\n",
    "Note : antennas ID has to start from 0 and not repeat themself -> fake antenna ID (counter starting from 0 and up to len(total antennas))"
   ]
  },
  {
   "cell_type": "code",
   "execution_count": 52,
   "metadata": {},
   "outputs": [],
   "source": [
    "def WriteAntennaPositionTable(filename, directory, antenna_params):\n",
    "    fake_idx = np.arange(0, len(antenna_params[:,0]))\n",
    "    antenna_x = antenna_params[:,3]\n",
    "    antenna_y = antenna_params[:,4]\n",
    "    antenna_z = antenna_params[:,5]\n",
    "    file_path = f\"{directory}{filename}\"\n",
    "    with open(file_path, 'w') as file:\n",
    "        for i in range(len(fake_idx)):\n",
    "            file.write(f\"{fake_idx[i]} {antenna_x[i]} {antenna_y[i]} {antenna_z[i]}\\n\")\n",
    "    return 0\n",
    "\n"
   ]
  },
  {
   "attachments": {},
   "cell_type": "markdown",
   "metadata": {},
   "source": [
    " Write the Rec_coinctable table for the GRAND reconstruction software\n",
    "\n",
    " Inputs: -file name (Rec_coinctable.txt) and directory\n",
    "\n",
    "-id_event \n",
    "\n",
    "-antenna parameter array: [antenna_index, peaktime, peakamplitude, x, y, z] \n",
    "\n",
    "Output : return 0 and write a create a textfile with antenna_id, event_id, peaktime (s), peakamplitude ($\\mu V/m$)\n",
    "\n",
    "Note : antennas ID has to start from 0 and not repeat themself -> fake antenna ID (counter starting from 0 and up to len(total antennas))\n",
    "\n",
    "\n",
    " "
   ]
  },
  {
   "cell_type": "code",
   "execution_count": 53,
   "metadata": {},
   "outputs": [],
   "source": [
    "def WriteReconsTable(filename, directory, idevent, antenna_params):\n",
    "    fake_idx = np.arange(0, len(antenna_params[:,0]))\n",
    "    peaktime = antenna_params[:,1]\n",
    "    peakamplitude = antenna_params[:,2]\n",
    "    event_number = idevent*len(peaktime)\n",
    "    file_path = f\"{directory}{filename}\"\n",
    "    with open(file_path, 'w') as file:\n",
    "        for i in range(len(fake_idx)):\n",
    "            file.write(f\"{fake_idx[i]} {event_number[i]} {peaktime[i]} {peakamplitude[i]}\\n\")\n",
    "    return 0"
   ]
  },
  {
   "cell_type": "code",
   "execution_count": 54,
   "metadata": {},
   "outputs": [
    {
     "name": "stdout",
     "output_type": "stream",
     "text": [
      "[0, 1, 2, 3, 4, 5, 6, 7, 8, 9, 10, 11, 12, 13, 14, 15, 16, 17, 18, 19, 20, 21, 22, 23, 24, 25, 26, 27, 28, 29, 30, 31, 32, 33, 34, 35, 36, 37, 38, 39, 40, 41, 42, 43, 44, 45, 46, 47, 48, 49, 50, 51, 52, 53, 54, 55, 56, 57, 58, 59, 60, 61, 62, 63, 64, 65, 66, 67, 68, 69, 70, 71, 72, 73, 74, 75, 76, 77, 78, 79, 80, 81, 82, 83, 84, 85, 86, 87, 88, 89, 90, 91, 92, 93, 94, 95, 96, 97, 98, 99, 100, 101, 102, 103, 104, 105, 106, 107, 108, 109, 110, 111, 112, 113, 114, 115, 116, 117, 118, 119, 120, 121, 122, 123, 124, 125, 126, 127, 128, 129, 130, 131, 132, 133, 134, 135, 164, 165, 167, 169, 175]\n",
      "['A0', 'A1', 'A2', 'A3', 'A4', 'A5', 'A6', 'A7', 'A8', 'A9', 'A10', 'A11', 'A12', 'A13', 'A14', 'A15', 'A16', 'A17', 'A18', 'A19', 'A20', 'A21', 'A22', 'A23', 'A24', 'A25', 'A26', 'A27', 'A28', 'A29', 'A30', 'A31', 'A32', 'A33', 'A34', 'A35', 'A36', 'A37', 'A38', 'A39', 'A40', 'A41', 'A42', 'A43', 'A44', 'A45', 'A46', 'A47', 'A48', 'A49', 'A50', 'A51', 'A52', 'A53', 'A54', 'A55', 'A56', 'A57', 'A58', 'A59', 'A60', 'A61', 'A62', 'A63', 'A64', 'A65', 'A66', 'A67', 'A68', 'A69', 'A70', 'A71', 'A72', 'A73', 'A74', 'A75', 'A76', 'A77', 'A78', 'A79', 'A80', 'A81', 'A82', 'A83', 'A84', 'A85', 'A86', 'A87', 'A88', 'A89', 'A90', 'A91', 'A92', 'A93', 'A94', 'A95', 'A96', 'A97', 'A98', 'A99', 'A100', 'A101', 'A102', 'A103', 'A104', 'A105', 'A106', 'A107', 'A108', 'A109', 'A110', 'A111', 'A112', 'A113', 'A114', 'A115', 'A116', 'A117', 'A118', 'A119', 'A120', 'A121', 'A122', 'A123', 'A124', 'A125', 'A126', 'A127', 'A128', 'A129', 'A130', 'A131', 'A132', 'A133', 'A134', 'A135', 'A136', 'A137', 'A138', 'A139', 'A140', 'A141', 'A142', 'A143', 'A144', 'A145', 'A146', 'A147', 'A148', 'A149', 'A150', 'A151', 'A152', 'A153', 'A154', 'A155', 'A156', 'A157', 'A158', 'A159', 'CrossCheckA160', 'CrossCheckA161', 'CrossCheckA162', 'CrossCheckA163', 'CrossCheckA164', 'CrossCheckA165', 'CrossCheckA166', 'CrossCheckA167', 'CrossCheckA168', 'CrossCheckA169', 'CrossCheckA170', 'CrossCheckA171', 'CrossCheckA172', 'CrossCheckA173', 'CrossCheckA174', 'CrossCheckA175']\n",
      "<class 'list'>\n",
      "<class 'list'>\n",
      "['A0', 'A1', 'A2', 'A3', 'A4', 'A5', 'A6', 'A7', 'A8', 'A9', 'A10', 'A11', 'A12', 'A13', 'A14', 'A15', 'A16', 'A17', 'A18', 'A19', 'A20', 'A21', 'A22', 'A23', 'A24', 'A25', 'A26', 'A27', 'A28', 'A29', 'A30', 'A31', 'A32', 'A33', 'A34', 'A35', 'A36', 'A37', 'A38', 'A39', 'A40', 'A41', 'A42', 'A43', 'A44', 'A45', 'A46', 'A47', 'A48', 'A49', 'A50', 'A51', 'A52', 'A53', 'A54', 'A55', 'A56', 'A57', 'A58', 'A59', 'A60', 'A61', 'A62', 'A63', 'A64', 'A65', 'A66', 'A67', 'A68', 'A69', 'A70', 'A71', 'A72', 'A73', 'A74', 'A75', 'A76', 'A77', 'A78', 'A79', 'A80', 'A81', 'A82', 'A83', 'A84', 'A85', 'A86', 'A87', 'A88', 'A89', 'A90', 'A91', 'A92', 'A93', 'A94', 'A95', 'A96', 'A97', 'A98', 'A99', 'A100', 'A101', 'A102', 'A103', 'A104', 'A105', 'A106', 'A107', 'A108', 'A109', 'A110', 'A111', 'A112', 'A113', 'A114', 'A115', 'A116', 'A117', 'A118', 'A119', 'A120', 'A121', 'A122', 'A123', 'A124', 'A125', 'A126', 'A127', 'A128', 'A129', 'A130', 'A131', 'A132', 'A133', 'A134', 'A135', 'CrossCheckA164', 'CrossCheckA165', 'CrossCheckA167', 'CrossCheckA169', 'CrossCheckA175']\n",
      "{'t_sample_ns': 0.5, 'x_max': {'alt': 12.47922, 'dist': 51.1347, 'x': 35.28, 'y': 35.28, 'z': 12.28423}, 'sl_depth_of_max': {'unit': 'g/cm2', 'mean': 795.998}, 'ground_altitude': {'alt': 1.086, 'unit': 'km'}, 'vers_aires': '19.04.08', 'vers_zhaires': '1.0.30a', 'primary': 'Proton', 'site': {'name': 'Dunhuang', 'lat': 40.0, 'lon': 93.1}, 'geo_mag1': {'norm': 55.997, 'unit': 'uT'}, 'geo_mag2': {'inc': 60.79, 'dec': 0.36}, 'energy': {'value': 3.9811, 'unit': 'EeV'}, 'shower_zenith': 77.35, 'shower_azimuth': 45.0}\n",
      "[0, 1, 2, 3, 4, 5, 6, 7, 8, 9, 10, 11, 12, 13, 14, 15, 16, 17, 18, 19, 20, 21, 22, 23, 24, 25, 26, 27, 28, 29, 30, 31, 32, 33, 34, 35, 36, 37, 38, 39, 40, 41, 42, 43, 44, 45, 46, 47, 48, 49, 50, 51, 52, 53, 54, 55, 56, 57, 58, 59, 60, 61, 62, 63, 64, 65, 66, 67, 68, 69, 70, 71, 72, 73, 74, 75, 76, 77, 78, 79, 80, 81, 82, 83, 84, 85, 86, 87, 88, 89, 90, 91, 92, 93, 94, 95, 96, 97, 98, 99, 100, 101, 102, 103, 104, 105, 106, 107, 108, 109, 110, 111, 112, 113, 114, 115, 116, 117, 118, 119, 120, 121, 122, 123, 124, 125, 126, 127, 128, 129, 130, 131, 132, 133, 134, 135, 164, 165, 167, 169, 175]\n",
      "['A0', 'A1', 'A2', 'A3', 'A4', 'A5', 'A6', 'A7', 'A8', 'A9', 'A10', 'A11', 'A12', 'A13', 'A14', 'A15', 'A16', 'A17', 'A18', 'A19', 'A20', 'A21', 'A22', 'A23', 'A24', 'A25', 'A26', 'A27', 'A28', 'A29', 'A30', 'A31', 'A32', 'A33', 'A34', 'A35', 'A36', 'A37', 'A38', 'A39', 'A40', 'A41', 'A42', 'A43', 'A44', 'A45', 'A46', 'A47', 'A48', 'A49', 'A50', 'A51', 'A52', 'A53', 'A54', 'A55', 'A56', 'A57', 'A58', 'A59', 'A60', 'A61', 'A62', 'A63', 'A64', 'A65', 'A66', 'A67', 'A68', 'A69', 'A70', 'A71', 'A72', 'A73', 'A74', 'A75', 'A76', 'A77', 'A78', 'A79', 'A80', 'A81', 'A82', 'A83', 'A84', 'A85', 'A86', 'A87', 'A88', 'A89', 'A90', 'A91', 'A92', 'A93', 'A94', 'A95', 'A96', 'A97', 'A98', 'A99', 'A100', 'A101', 'A102', 'A103', 'A104', 'A105', 'A106', 'A107', 'A108', 'A109', 'A110', 'A111', 'A112', 'A113', 'A114', 'A115', 'A116', 'A117', 'A118', 'A119', 'A120', 'A121', 'A122', 'A123', 'A124', 'A125', 'A126', 'A127', 'A128', 'A129', 'A130', 'A131', 'A132', 'A133', 'A134', 'A135', 'A136', 'A137', 'A138', 'A139', 'A140', 'A141', 'A142', 'A143', 'A144', 'A145', 'A146', 'A147', 'A148', 'A149', 'A150', 'A151', 'A152', 'A153', 'A154', 'A155', 'A156', 'A157', 'A158', 'A159', 'CrossCheckA160', 'CrossCheckA161', 'CrossCheckA162', 'CrossCheckA163', 'CrossCheckA164', 'CrossCheckA165', 'CrossCheckA166', 'CrossCheckA167', 'CrossCheckA168', 'CrossCheckA169', 'CrossCheckA170', 'CrossCheckA171', 'CrossCheckA172', 'CrossCheckA173', 'CrossCheckA174', 'CrossCheckA175']\n",
      "<class 'list'>\n",
      "<class 'list'>\n",
      "['A0', 'A1', 'A2', 'A3', 'A4', 'A5', 'A6', 'A7', 'A8', 'A9', 'A10', 'A11', 'A12', 'A13', 'A14', 'A15', 'A16', 'A17', 'A18', 'A19', 'A20', 'A21', 'A22', 'A23', 'A24', 'A25', 'A26', 'A27', 'A28', 'A29', 'A30', 'A31', 'A32', 'A33', 'A34', 'A35', 'A36', 'A37', 'A38', 'A39', 'A40', 'A41', 'A42', 'A43', 'A44', 'A45', 'A46', 'A47', 'A48', 'A49', 'A50', 'A51', 'A52', 'A53', 'A54', 'A55', 'A56', 'A57', 'A58', 'A59', 'A60', 'A61', 'A62', 'A63', 'A64', 'A65', 'A66', 'A67', 'A68', 'A69', 'A70', 'A71', 'A72', 'A73', 'A74', 'A75', 'A76', 'A77', 'A78', 'A79', 'A80', 'A81', 'A82', 'A83', 'A84', 'A85', 'A86', 'A87', 'A88', 'A89', 'A90', 'A91', 'A92', 'A93', 'A94', 'A95', 'A96', 'A97', 'A98', 'A99', 'A100', 'A101', 'A102', 'A103', 'A104', 'A105', 'A106', 'A107', 'A108', 'A109', 'A110', 'A111', 'A112', 'A113', 'A114', 'A115', 'A116', 'A117', 'A118', 'A119', 'A120', 'A121', 'A122', 'A123', 'A124', 'A125', 'A126', 'A127', 'A128', 'A129', 'A130', 'A131', 'A132', 'A133', 'A134', 'A135', 'CrossCheckA164', 'CrossCheckA165', 'CrossCheckA167', 'CrossCheckA169', 'CrossCheckA175']\n"
     ]
    }
   ],
   "source": [
    "def main():\n",
    "    simu_directory = '/Users/mguelfan/Documents/GRAND/ADF_DC2/simus/Stshp_DH_S23d_Proton_3.98_77.4_45.0_1/'\n",
    "    directory = \"/Users/mguelfan/Documents/GRAND/ADF_DC2/output_recons_ADF/\"\n",
    "    filename_position = \"coord_antennas.txt\"\n",
    "    filename_arrivaltime = 'Rec_coinctable.txt'\n",
    "    antennathreshold = 5\n",
    "    amplitudethreshold = 110    \n",
    "    print(GetSimulationReconstructionParameters(simu_directory, antennathreshold, amplitudethreshold)[1])\n",
    "    antenna_params = GetSimulationReconstructionParameters(simu_directory, antennathreshold, amplitudethreshold)[0]\n",
    "    idevent = EventNumber(simu_directory)\n",
    "    WriteAntennaPositionTable(filename_position, directory, antenna_params) \n",
    "    WriteReconsTable(filename_arrivaltime, directory, idevent, antenna_params)\n",
    "    #print(GetSimulationReconstructionParameters(simu_directory, antennathreshold, amplitudethreshold)[1])\n",
    "\n",
    "if __name__ == \"__main__\":\n",
    "    main()\n",
    "    "
   ]
  },
  {
   "cell_type": "code",
   "execution_count": 27,
   "metadata": {},
   "outputs": [],
   "source": [
    "import math \n",
    "\n",
    "def WriteValueAngleSim(simu_directory, directory, file_simuangle):\n",
    "    d_event = ZhairesMaster(simu_directory)\n",
    "    shower_parameters = d_event.get_simu_info()\n",
    "    #event_number = idevent\n",
    "    zenith_angle = shower_parameters.get('shower_zenith')\n",
    "    azimuth_angle = shower_parameters.get('shower_azimuth')\n",
    "    split_simu_directory = simu_directory.split('/')\n",
    "    simu_name = split_simu_directory[-2]\n",
    "    file_path = f\"{directory}{file_simuangle}\"\n",
    "    with open(file_path, 'a') as file:\n",
    "        if azimuth_angle < 180:\n",
    "            result = 180 + azimuth_angle\n",
    "            print('bonjour')\n",
    "            file.write(f\"{simu_name} {zenith_angle:.1f} {azimuth_angle:.1f} {180-zenith_angle:.1f} {result:.1f}\\n\")\n",
    "        else:\n",
    "            angle_degreesbis = 180 + azimuth_angle\n",
    "            angle_radians = math.radians(angle_degreesbis)\n",
    "            result = angle_radians % (2*math.pi)\n",
    "            result = np.rad2deg(result)\n",
    "            file.write(f\"{simu_name} {zenith_angle:.1f} {azimuth_angle:.1f} {180-zenith_angle:.1f} {result:.1f}\\n\")\n",
    "    return 0\n",
    "        \n",
    "\n",
    "\n",
    "\n",
    "    "
   ]
  },
  {
   "cell_type": "code",
   "execution_count": 170,
   "metadata": {},
   "outputs": [
    {
     "name": "stdout",
     "output_type": "stream",
     "text": [
      "bonjour\n"
     ]
    }
   ],
   "source": [
    "def main():\n",
    "    simu_directory = '/Users/mguelfan/Documents/GRAND/ADF_DC2/simus/Stshp_DH_S23d_Proton_3.98_77.4_90.0_1/'\n",
    "    directory = \"/Users/mguelfan/Documents/GRAND/ADF_DC2/output_recons_ADF/\"\n",
    "    file_simuangle = \"angle_value_simulations-MCMC.txt\"\n",
    "    idevent = EventNumber(simu_directory)\n",
    "    WriteValueAngleSim(simu_directory, directory, file_simuangle)\n",
    "\n",
    "if __name__ == \"__main__\":\n",
    "    main()\n",
    "\n",
    "    "
   ]
  },
  {
   "cell_type": "code",
   "execution_count": null,
   "metadata": {},
   "outputs": [],
   "source": []
  },
  {
   "cell_type": "code",
   "execution_count": null,
   "metadata": {},
   "outputs": [],
   "source": []
  }
 ],
 "metadata": {
  "kernelspec": {
   "display_name": "Python 3",
   "language": "python",
   "name": "python3"
  },
  "language_info": {
   "codemirror_mode": {
    "name": "ipython",
    "version": 3
   },
   "file_extension": ".py",
   "mimetype": "text/x-python",
   "name": "python",
   "nbconvert_exporter": "python",
   "pygments_lexer": "ipython3",
   "version": "3.11.4"
  },
  "orig_nbformat": 4
 },
 "nbformat": 4,
 "nbformat_minor": 2
}
