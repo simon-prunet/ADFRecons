{
 "cells": [
  {
   "cell_type": "code",
   "execution_count": 66,
   "metadata": {},
   "outputs": [],
   "source": [
    "from sradio.io.shower.zhaires_master import ZhairesMaster\n",
    "import numpy as np"
   ]
  },
  {
   "cell_type": "code",
   "execution_count": 67,
   "metadata": {},
   "outputs": [],
   "source": [
    "def EventNumber(input_directory):\n",
    "    # \\d : search a pattern of digit\n",
    "    # + = require the number is present at least once\n",
    "    # / require there is a / after the sequence of numbers\n",
    "    # $ : require the sequence of numbers is at the end of the string\n",
    "    last_numbers = re.search(r'\\d+/$', input_directory)\n",
    "    if last_numbers:\n",
    "        #group(0) : returns all full substring found \n",
    "        eventnumber = last_numbers.group(0)\n",
    "        #rstrip : to return a nex string by removing '/'\n",
    "        eventnumber = [eventnumber.rstrip('/')]\n",
    "        return eventnumber\n",
    "    else:\n",
    "        return None"
   ]
  },
  {
   "attachments": {},
   "cell_type": "markdown",
   "metadata": {},
   "source": []
  },
  {
   "cell_type": "code",
   "execution_count": 68,
   "metadata": {},
   "outputs": [],
   "source": [
    "def GetSimulationReconstructionParameters(input_directory, antennathreshold, amplitudethreshold):\n",
    "    d_event = ZhairesMaster(input_directory)\n",
    "    event = d_event.get_object_3dtraces()\n",
    "    event.traces = event.get_traces_passband([50,200])\n",
    "    idx = event.remove_traces_low_signal(amplitudethreshold)\n",
    "    peaktime= event.get_tmax_vmax()[0]*1e-9 #convert from ns to s\n",
    "    peakamplitude = event.get_tmax_vmax()[1]\n",
    "    antennas = d_event.f_zhaires\n",
    "    antennas.read_antpos_file()\n",
    "    antennas.ants['idx'] = antennas.ants['idx']-1\n",
    "    index =np.isin(antennas.ants['idx'], idx)\n",
    "    if len(peaktime) > antennathreshold:\n",
    "        antenna_x = antennas.ants[index]['x']\n",
    "        antenna_y = antennas.ants[index]['y']\n",
    "        antenna_z = antennas.ants[index]['z']\n",
    "        antenna_parameters = np.array([idx, peaktime, peakamplitude, antenna_x, antenna_y, antenna_z]).T\n",
    "        shower_parameters = d_event.get_simu_info()\n",
    "    else:\n",
    "        print(\"Not enough antennas above threshold for issuing a T2 trigger\")\n",
    "    return antenna_parameters, shower_parameters\n"
   ]
  },
  {
   "cell_type": "code",
   "execution_count": 70,
   "metadata": {},
   "outputs": [
    {
     "data": {
      "text/plain": [
       "['1']"
      ]
     },
     "execution_count": 70,
     "metadata": {},
     "output_type": "execute_result"
    }
   ],
   "source": [
    "EventNumber(simu_directory)"
   ]
  },
  {
   "cell_type": "code",
   "execution_count": 71,
   "metadata": {},
   "outputs": [],
   "source": [
    "def WriteAntennaPositionTable(filename, directory, antenna_params):\n",
    "    fake_idx = np.arange(0, len(antenna_params[:,0]))\n",
    "    antenna_x = antenna_params[:,3]\n",
    "    antenna_y = antenna_params[:,4]\n",
    "    antenna_z = antenna_params[:,5]\n",
    "    file_path = f\"{directory}{filename}\"\n",
    "    with open(file_path, 'w') as file:\n",
    "        for i in range(len(fake_idx)):\n",
    "            file.write(f\"{fake_idx[i]} {antenna_x[i]} {antenna_y[i]} {antenna_z[i]}\\n\")\n",
    "    return 0\n",
    "\n"
   ]
  },
  {
   "cell_type": "code",
   "execution_count": 73,
   "metadata": {},
   "outputs": [],
   "source": [
    "def WriteReconsTable(filename, directory, idevent, antenna_params):\n",
    "    fake_idx = np.arange(0, len(antenna_params[:,0]))\n",
    "    peaktime = antenna_params[:,1]\n",
    "    peakamplitude = antenna_params[:,2]\n",
    "    event_number = idevent*len(peaktime)\n",
    "    file_path = f\"{directory}{filename}\"\n",
    "    with open(file_path, 'w') as file:\n",
    "        for i in range(len(fake_idx)):\n",
    "            file.write(f\"{fake_idx[i]} {event_number[i]} {peaktime[i]} {peakamplitude[i]}\\n\")\n",
    "    return 0"
   ]
  },
  {
   "cell_type": "code",
   "execution_count": 76,
   "metadata": {},
   "outputs": [
    {
     "name": "stdout",
     "output_type": "stream",
     "text": [
      "[0, 1, 2, 3, 4, 5, 6, 7, 8, 9, 10, 11, 12, 13, 14, 15, 16, 17, 18, 19, 20, 21, 22, 23, 24, 25, 26, 27, 28, 29, 30, 31, 32, 33, 34, 35, 36, 37, 38, 39, 40, 41, 42, 43, 44, 45, 46, 47, 48, 49, 50, 51, 52, 53, 54, 55, 56, 57, 58, 59, 60, 61, 62, 63, 64, 65, 66, 67, 68, 69, 70, 71, 72, 73, 74, 75, 76, 77, 78, 79, 80, 81, 82, 83, 84, 85, 86, 87, 88, 89, 90, 91, 92, 93, 94, 95, 96, 97, 98, 99, 100, 101, 102, 103, 104, 105, 106, 107, 108, 109, 110, 111, 112, 113, 114, 115, 116, 117, 118, 119, 120, 121, 122, 123, 124, 125, 126, 127, 128, 129, 130, 131, 132, 133, 134, 135, 136, 137, 138, 139, 140, 141, 142, 143, 160, 161, 164, 166, 169, 174]\n",
      "['A0', 'A1', 'A2', 'A3', 'A4', 'A5', 'A6', 'A7', 'A8', 'A9', 'A10', 'A11', 'A12', 'A13', 'A14', 'A15', 'A16', 'A17', 'A18', 'A19', 'A20', 'A21', 'A22', 'A23', 'A24', 'A25', 'A26', 'A27', 'A28', 'A29', 'A30', 'A31', 'A32', 'A33', 'A34', 'A35', 'A36', 'A37', 'A38', 'A39', 'A40', 'A41', 'A42', 'A43', 'A44', 'A45', 'A46', 'A47', 'A48', 'A49', 'A50', 'A51', 'A52', 'A53', 'A54', 'A55', 'A56', 'A57', 'A58', 'A59', 'A60', 'A61', 'A62', 'A63', 'A64', 'A65', 'A66', 'A67', 'A68', 'A69', 'A70', 'A71', 'A72', 'A73', 'A74', 'A75', 'A76', 'A77', 'A78', 'A79', 'A80', 'A81', 'A82', 'A83', 'A84', 'A85', 'A86', 'A87', 'A88', 'A89', 'A90', 'A91', 'A92', 'A93', 'A94', 'A95', 'A96', 'A97', 'A98', 'A99', 'A100', 'A101', 'A102', 'A103', 'A104', 'A105', 'A106', 'A107', 'A108', 'A109', 'A110', 'A111', 'A112', 'A113', 'A114', 'A115', 'A116', 'A117', 'A118', 'A119', 'A120', 'A121', 'A122', 'A123', 'A124', 'A125', 'A126', 'A127', 'A128', 'A129', 'A130', 'A131', 'A132', 'A133', 'A134', 'A135', 'A136', 'A137', 'A138', 'A139', 'A140', 'A141', 'A142', 'A143', 'A144', 'A145', 'A146', 'A147', 'A148', 'A149', 'A150', 'A151', 'A152', 'A153', 'A154', 'A155', 'A156', 'A157', 'A158', 'A159', 'CrossCheckA160', 'CrossCheckA161', 'CrossCheckA162', 'CrossCheckA163', 'CrossCheckA164', 'CrossCheckA165', 'CrossCheckA166', 'CrossCheckA167', 'CrossCheckA168', 'CrossCheckA169', 'CrossCheckA170', 'CrossCheckA171', 'CrossCheckA172', 'CrossCheckA173', 'CrossCheckA174', 'CrossCheckA175']\n",
      "<class 'list'>\n",
      "<class 'list'>\n",
      "['A0', 'A1', 'A2', 'A3', 'A4', 'A5', 'A6', 'A7', 'A8', 'A9', 'A10', 'A11', 'A12', 'A13', 'A14', 'A15', 'A16', 'A17', 'A18', 'A19', 'A20', 'A21', 'A22', 'A23', 'A24', 'A25', 'A26', 'A27', 'A28', 'A29', 'A30', 'A31', 'A32', 'A33', 'A34', 'A35', 'A36', 'A37', 'A38', 'A39', 'A40', 'A41', 'A42', 'A43', 'A44', 'A45', 'A46', 'A47', 'A48', 'A49', 'A50', 'A51', 'A52', 'A53', 'A54', 'A55', 'A56', 'A57', 'A58', 'A59', 'A60', 'A61', 'A62', 'A63', 'A64', 'A65', 'A66', 'A67', 'A68', 'A69', 'A70', 'A71', 'A72', 'A73', 'A74', 'A75', 'A76', 'A77', 'A78', 'A79', 'A80', 'A81', 'A82', 'A83', 'A84', 'A85', 'A86', 'A87', 'A88', 'A89', 'A90', 'A91', 'A92', 'A93', 'A94', 'A95', 'A96', 'A97', 'A98', 'A99', 'A100', 'A101', 'A102', 'A103', 'A104', 'A105', 'A106', 'A107', 'A108', 'A109', 'A110', 'A111', 'A112', 'A113', 'A114', 'A115', 'A116', 'A117', 'A118', 'A119', 'A120', 'A121', 'A122', 'A123', 'A124', 'A125', 'A126', 'A127', 'A128', 'A129', 'A130', 'A131', 'A132', 'A133', 'A134', 'A135', 'A136', 'A137', 'A138', 'A139', 'A140', 'A141', 'A142', 'A143', 'CrossCheckA160', 'CrossCheckA161', 'CrossCheckA164', 'CrossCheckA166', 'CrossCheckA169', 'CrossCheckA174']\n",
      "['1']\n"
     ]
    }
   ],
   "source": [
    "def main():\n",
    "    simu_directory = '/Users/mguelfan/Documents/GRAND/ADF_DC2/simus/Stshp_DH_S23d_Proton_3.98_67.8_45.0_1/'\n",
    "    directory = \"/Users/mguelfan/Documents/GRAND/ADF_DC2/ADFRecons/output_recons_ADF/\"\n",
    "    filename_position = \"coord_antennas.txt\"\n",
    "    filename_arrivaltime = 'Rec_coinctable.txt'\n",
    "    antennathreshold = 5\n",
    "    amplitudethreshold = 150    \n",
    "    antenna_params = GetSimulationReconstructionParameters(simu_directory, antennathreshold, amplitudethreshold)[0]\n",
    "    idevent = EventNumber(simu_directory)\n",
    "    print(idevent)\n",
    "    WriteAntennaPositionTable(filename_position, directory, antenna_params) \n",
    "    WriteReconsTable(filename_arrivaltime, directory, idevent, antenna_params)\n",
    "\n",
    "if __name__ == \"__main__\":\n",
    "    main()\n",
    "    "
   ]
  },
  {
   "cell_type": "code",
   "execution_count": null,
   "metadata": {},
   "outputs": [],
   "source": []
  }
 ],
 "metadata": {
  "kernelspec": {
   "display_name": "Python 3",
   "language": "python",
   "name": "python3"
  },
  "language_info": {
   "codemirror_mode": {
    "name": "ipython",
    "version": 3
   },
   "file_extension": ".py",
   "mimetype": "text/x-python",
   "name": "python",
   "nbconvert_exporter": "python",
   "pygments_lexer": "ipython3",
   "version": "3.11.4"
  },
  "orig_nbformat": 4
 },
 "nbformat": 4,
 "nbformat_minor": 2
}
