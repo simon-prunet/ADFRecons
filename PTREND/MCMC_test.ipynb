{
 "cells": [
  {
   "cell_type": "code",
   "execution_count": 11,
   "metadata": {},
   "outputs": [],
   "source": [
    "from recons import antenna_set, coincidence_set, PWF_loss\n",
    "import numpy as np\n",
    "import matplotlib.pyplot as plt\n",
    "from emcee import EnsembleSampler\n"
   ]
  },
  {
   "cell_type": "code",
   "execution_count": 12,
   "metadata": {},
   "outputs": [],
   "source": [
    "def logprob(angles, coords, times):\n",
    "    return -0.5*PWF_loss(angles, coords, times)"
   ]
  },
  {
   "cell_type": "code",
   "execution_count": 18,
   "metadata": {},
   "outputs": [
    {
     "name": "stdout",
     "output_type": "stream",
     "text": [
      " Reading antenna positions from file /Users/mguelfan/Documents/GRAND/ADF_DC2/output_recons_ADF/coord_antennas.txt\n",
      " Reading coincidence(s): index, peak time, peak amplitude from file /Users/mguelfan/Documents/GRAND/ADF_DC2/output_recons_ADF/Rec_coinctable.txt\n",
      "sampler <emcee.ensemble.EnsembleSampler object at 0x16d33b0d0>\n",
      "[2.47291534 3.14064961]\n"
     ]
    }
   ],
   "source": [
    "def MCMC_minimizer(nwalkers, ndim, logprob, args):\n",
    "    sampler = EnsembleSampler(nwalkers, ndim, logprob, args=args)\n",
    "    print('sampler', sampler)\n",
    "    #generates 10 values of theta in the range [90°, 180°]\n",
    "    #and 10 values of phi in the range [180°, 360°]\n",
    "    #(GRAND conventions)\n",
    "    thetas = np.random.rand(10)*np.pi/2 + np.pi/2\n",
    "    phis = np.random.rand(10)*2.*np.pi\n",
    "    #concatenates theta et phi\n",
    "    p0 = np.vstack((thetas, phis)).T\n",
    "    state  = sampler.run_mcmc(p0, 100)\n",
    "    #print('state',state)\n",
    "    sampler.reset()\n",
    "    sampler.run_mcmc(state, 10000)\n",
    "    samples = sampler.get_chain(flat=True, thin=25)\n",
    "    logprobs = sampler.get_log_prob(flat=True, thin=25)\n",
    "    mask= (samples[:,0]>np.pi/2)*(samples[:,0]<np.pi)*(samples[:,1]>0)*(samples[:,1]<2*np.pi)\n",
    "    med = np.median(samples[mask,:], axis=0)\n",
    "    return med\n",
    "an = antenna_set('/Users/mguelfan/Documents/GRAND/ADF_DC2/output_recons_ADF/coord_antennas.txt')\n",
    "co = coincidence_set('/Users/mguelfan/Documents/GRAND/ADF_DC2/output_recons_ADF/Rec_coinctable.txt', an)\n",
    "current_recons = 0\n",
    "args=(co.antenna_coords_array[current_recons,:],co.peak_time_array[current_recons,:])\n",
    "print(MCMC_minimizer(10,2, logprob, args))"
   ]
  },
  {
   "cell_type": "code",
   "execution_count": null,
   "metadata": {},
   "outputs": [],
   "source": []
  }
 ],
 "metadata": {
  "kernelspec": {
   "display_name": "Python 3",
   "language": "python",
   "name": "python3"
  },
  "language_info": {
   "codemirror_mode": {
    "name": "ipython",
    "version": 3
   },
   "file_extension": ".py",
   "mimetype": "text/x-python",
   "name": "python",
   "nbconvert_exporter": "python",
   "pygments_lexer": "ipython3",
   "version": "3.11.4"
  },
  "orig_nbformat": 4
 },
 "nbformat": 4,
 "nbformat_minor": 2
}
