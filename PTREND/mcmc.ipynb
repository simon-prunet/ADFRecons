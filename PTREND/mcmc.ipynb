{
 "cells": [
  {
   "cell_type": "code",
   "execution_count": 257,
   "metadata": {},
   "outputs": [],
   "source": [
    "from recons import antenna_set, coincidence_set, PWF_loss\n",
    "import numpy as np\n",
    "import matplotlib.pyplot as plt"
   ]
  },
  {
   "cell_type": "code",
   "execution_count": 271,
   "metadata": {},
   "outputs": [
    {
     "name": "stdout",
     "output_type": "stream",
     "text": [
      " Reading antenna positions from file /Users/mguelfan/Documents/GRAND/ADF_DC2/output_recons_ADF/coord_antennas.txt\n",
      " Reading coincidence(s): index, peak time, peak amplitude from file /Users/mguelfan/Documents/GRAND/ADF_DC2/output_recons_ADF/Rec_coinctable.txt\n"
     ]
    }
   ],
   "source": [
    "an = antenna_set('/Users/mguelfan/Documents/GRAND/ADF_DC2/output_recons_ADF/coord_antennas.txt')\n",
    "co = coincidence_set('/Users/mguelfan/Documents/GRAND/ADF_DC2/output_recons_ADF/Rec_coinctable.txt', an)\n"
   ]
  },
  {
   "cell_type": "code",
   "execution_count": 272,
   "metadata": {},
   "outputs": [
    {
     "data": {
      "text/plain": [
       "array([[  -0.        ,   -9.67000008, 1086.        ],\n",
       "       [   8.72000027,   -6.8499999 , 1086.        ],\n",
       "       [  12.32999992,   -0.        , 1086.        ],\n",
       "       [   8.72000027,    6.8499999 , 1086.        ],\n",
       "       [   0.        ,    9.67000008, 1086.        ],\n",
       "       [  -8.68999958,    6.82000017, 1086.        ],\n",
       "       [ -12.27999973,    0.        , 1086.        ],\n",
       "       [  -8.68999958,   -6.82000017, 1086.        ],\n",
       "       [  -0.        ,  -21.87000084, 1086.        ],\n",
       "       [  19.76000023,  -15.52000046, 1086.        ],\n",
       "       [  27.97999954,   -0.        , 1086.        ],\n",
       "       [  19.76000023,   15.52000046, 1086.        ],\n",
       "       [   0.        ,   21.87000084, 1086.        ],\n",
       "       [ -19.61000061,   15.39999962, 1086.        ],\n",
       "       [ -27.69000053,    0.        , 1086.        ],\n",
       "       [ -19.61000061,  -15.39999962, 1086.        ],\n",
       "       [  -0.        ,  -31.60000038, 1086.        ],\n",
       "       [  28.60000038,  -22.46999931, 1086.        ],\n",
       "       [  40.54000092,   -0.        , 1086.        ],\n",
       "       [  28.60000038,   22.46999931, 1086.        ],\n",
       "       [   0.        ,   31.60000038, 1086.        ],\n",
       "       [ -28.29000092,   22.21999931, 1086.        ],\n",
       "       [ -39.91999817,    0.        , 1086.        ],\n",
       "       [ -28.29000092,  -22.21999931, 1086.        ],\n",
       "       [  -0.        ,  -39.40000153, 1086.        ],\n",
       "       [  35.70999908,  -28.04999924, 1086.        ],\n",
       "       [  50.63999939,   -0.        , 1086.        ],\n",
       "       [  35.70999908,   28.04999924, 1086.        ],\n",
       "       [   0.        ,   39.40000153, 1086.        ],\n",
       "       [ -35.22999954,   27.67000008, 1086.        ],\n",
       "       [ -49.68999863,    0.        , 1086.        ],\n",
       "       [ -35.22999954,  -27.67000008, 1086.        ],\n",
       "       [  -0.        ,  -45.66999817, 1086.        ],\n",
       "       [  41.43000031,  -32.54999924, 1086.        ],\n",
       "       [  58.77999878,   -0.        , 1086.        ],\n",
       "       [  41.43000031,   32.54999924, 1086.        ],\n",
       "       [   0.        ,   45.66999817, 1086.        ],\n",
       "       [ -40.79000092,   32.04000092, 1086.        ],\n",
       "       [ -57.5       ,    0.        , 1086.        ],\n",
       "       [ -40.79000092,  -32.04000092, 1086.        ],\n",
       "       [  -0.        ,  -50.66999817, 1086.        ],\n",
       "       [  46.00999832,  -36.13999939, 1086.        ],\n",
       "       [  65.30000305,   -0.        , 1086.        ],\n",
       "       [  46.00999832,   36.13999939, 1086.        ],\n",
       "       [   0.        ,   50.66999817, 1086.        ],\n",
       "       [ -45.22000122,   35.52000046, 1086.        ],\n",
       "       [ -63.72000122,    0.        , 1086.        ],\n",
       "       [ -45.22000122,  -35.52000046, 1086.        ],\n",
       "       [  -0.        ,  -54.66999817, 1086.        ],\n",
       "       [  49.68000031,  -39.02000046, 1086.        ],\n",
       "       [  70.52999878,   -0.        , 1086.        ],\n",
       "       [  49.68000031,   39.02000046, 1086.        ],\n",
       "       [   0.        ,   54.66999817, 1086.        ],\n",
       "       [ -48.75999832,   38.29999924, 1086.        ],\n",
       "       [ -68.69000244,    0.        , 1086.        ],\n",
       "       [ -48.75999832,  -38.29999924, 1086.        ],\n",
       "       [  -0.        ,  -58.66999817, 1086.        ],\n",
       "       [  53.34999847,  -41.90999985, 1086.        ],\n",
       "       [  75.76000214,   -0.        , 1086.        ],\n",
       "       [  53.34999847,   41.90999985, 1086.        ],\n",
       "       [   0.        ,   58.66999817, 1086.        ],\n",
       "       [ -52.29000092,   41.08000183, 1086.        ],\n",
       "       [ -73.65000153,    0.        , 1086.        ],\n",
       "       [ -52.29000092,  -41.08000183, 1086.        ],\n",
       "       [  -0.        ,  -62.66999817, 1086.        ],\n",
       "       [  57.02000046,  -44.79999924, 1086.        ],\n",
       "       [  81.01000214,   -0.        , 1086.        ],\n",
       "       [  57.02000046,   44.79999924, 1086.        ],\n",
       "       [   0.        ,   62.66999817, 1086.        ],\n",
       "       [ -55.81999969,   43.84999847, 1086.        ],\n",
       "       [ -78.59999847,    0.        , 1086.        ],\n",
       "       [ -55.81999969,  -43.84999847, 1086.        ],\n",
       "       [  -0.        ,  -66.66999817, 1086.        ],\n",
       "       [  60.70999908,  -47.68999863, 1086.        ],\n",
       "       [  86.26000214,   -0.        , 1086.        ],\n",
       "       [  60.70999908,   47.68999863, 1086.        ],\n",
       "       [   0.        ,   66.66999817, 1086.        ],\n",
       "       [ -59.34000015,   46.61999893, 1086.        ],\n",
       "       [ -83.52999878,    0.        , 1086.        ],\n",
       "       [ -59.34000015,  -46.61999893, 1086.        ],\n",
       "       [  -0.        ,  -70.68000031, 1086.        ],\n",
       "       [  64.40000153,  -50.58000183, 1086.        ],\n",
       "       [  91.52999878,   -0.        , 1086.        ],\n",
       "       [  64.40000153,   50.58000183, 1086.        ],\n",
       "       [   0.        ,   70.68000031, 1086.        ],\n",
       "       [ -62.86000061,   49.38000107, 1086.        ],\n",
       "       [ -88.45999908,    0.        , 1086.        ],\n",
       "       [ -62.86000061,  -49.38000107, 1086.        ],\n",
       "       [  -0.        ,  -74.68000031, 1086.        ],\n",
       "       [  68.08999634,  -53.49000168, 1086.        ],\n",
       "       [  96.80999756,   -0.        , 1086.        ],\n",
       "       [  68.08999634,   53.49000168, 1086.        ],\n",
       "       [   0.        ,   74.68000031, 1086.        ],\n",
       "       [ -66.37999725,   52.13999939, 1086.        ],\n",
       "       [ -93.37999725,    0.        , 1086.        ],\n",
       "       [ -66.37999725,  -52.13999939, 1086.        ],\n",
       "       [  -0.        ,  -79.68000031, 1086.        ],\n",
       "       [  72.70999908,  -57.11999893, 1086.        ],\n",
       "       [ 103.41999817,   -0.        , 1086.        ],\n",
       "       [  72.70999908,   57.11999893, 1086.        ],\n",
       "       [   0.        ,   79.68000031, 1086.        ],\n",
       "       [ -70.76000214,   55.59000015, 1086.        ],\n",
       "       [ -99.51999664,    0.        , 1086.        ],\n",
       "       [ -70.76000214,  -55.59000015, 1086.        ],\n",
       "       [  -0.        ,  -85.94999695, 1086.        ],\n",
       "       [  78.51999664,  -61.68000031, 1086.        ],\n",
       "       [ 111.73000336,   -0.        , 1086.        ],\n",
       "       [  78.51999664,   61.68000031, 1086.        ],\n",
       "       [   0.        ,   85.94999695, 1086.        ],\n",
       "       [ -76.25      ,   59.90000153, 1086.        ],\n",
       "       [-107.19999695,    0.        , 1086.        ],\n",
       "       [ -76.25      ,  -59.90000153, 1086.        ],\n",
       "       [  -0.        ,  -93.76000214, 1086.        ],\n",
       "       [  85.76999664,  -67.37000275, 1086.        ],\n",
       "       [ 122.12000275,   -0.        , 1086.        ],\n",
       "       [  85.76999664,   67.37000275, 1086.        ],\n",
       "       [   0.        ,   93.76000214, 1086.        ],\n",
       "       [ -83.06999969,   65.25      , 1086.        ],\n",
       "       [-116.70999908,    0.        , 1086.        ],\n",
       "       [ -83.06999969,  -65.25      , 1086.        ],\n",
       "       [  -0.        , -104.16999817, 1086.        ],\n",
       "       [  95.45999908,  -74.98999786, 1086.        ],\n",
       "       [ 136.02000427,   -0.        , 1086.        ],\n",
       "       [  95.45999908,   74.98999786, 1086.        ],\n",
       "       [   0.        ,  104.16999817, 1086.        ],\n",
       "       [ -92.12999725,   72.37000275, 1086.        ],\n",
       "       [-129.36000061,    0.        , 1086.        ],\n",
       "       [ -92.12999725,  -72.37000275, 1086.        ],\n",
       "       [  -0.        , -118.05000305, 1086.        ],\n",
       "       [ 108.44999695,  -85.19000244, 1086.        ],\n",
       "       [ 154.67999268,   -0.        , 1086.        ],\n",
       "       [ 108.44999695,   85.19000244, 1086.        ],\n",
       "       [   0.        ,  118.05000305, 1086.        ],\n",
       "       [-104.16999817,   81.83000183, 1086.        ],\n",
       "       [-146.11999512,    0.        , 1086.        ],\n",
       "       [-104.16999817,  -81.83000183, 1086.        ],\n",
       "       [  -0.        , -138.88000488, 1086.        ],\n",
       "       [ 128.05000305, -100.58999634, 1086.        ],\n",
       "       [ 182.91999817,   -0.        , 1086.        ],\n",
       "       [ 128.05000305,  100.58999634, 1086.        ],\n",
       "       [   0.        ,  138.88000488, 1086.        ],\n",
       "       [-122.12000275,   95.93000031, 1086.        ],\n",
       "       [-171.07000732,    0.        , 1086.        ],\n",
       "       [-122.12000275,  -95.93000031, 1086.        ],\n",
       "       [  -0.        , -170.1499939 , 1086.        ],\n",
       "       [ 157.74000549, -123.91000366, 1086.        ],\n",
       "       [ 225.86999512,   -0.        , 1086.        ],\n",
       "       [ 157.74000549,  123.91000366, 1086.        ],\n",
       "       [   0.        ,  170.1499939 , 1086.        ],\n",
       "       [-148.83999634,  116.91999817, 1086.        ],\n",
       "       [-208.07000732,    0.        , 1086.        ],\n",
       "       [-148.83999634, -116.91999817, 1086.        ],\n",
       "       [ 291.66000366,   -0.        , 1086.        ],\n",
       "       [ 202.94999695,  159.41999817, 1086.        ],\n",
       "       [   0.        ,  217.11000061, 1086.        ],\n",
       "       [-188.46000671,  148.03999329, 1086.        ],\n",
       "       [-262.64001465,    0.        , 1086.        ],\n",
       "       [-188.46000671, -148.03999329, 1086.        ],\n",
       "       [-311.67999268,   91.29000092, 1529.82995605],\n",
       "       [-289.72000122,  -50.11999893, 1674.25      ],\n",
       "       [-299.76998901,   52.06999969, 1492.39001465],\n",
       "       [  14.60999966,  176.99000549, 1216.47998047],\n",
       "       [-158.53999329,   76.26999664, 1269.54003906],\n",
       "       [-187.02999878,   68.19000244, 1475.54003906],\n",
       "       [-413.44000244,  -34.29000092, 1796.38000488],\n",
       "       [-322.55999756,  -15.39999962, 1619.91003418],\n",
       "       [-289.1499939 ,  127.51000214, 1559.20996094],\n",
       "       [-213.21000671,   92.08999634, 1296.56005859],\n",
       "       [-179.27999878,    4.53000021, 1570.69995117],\n",
       "       [-470.67999268,   49.41999817, 1565.63000488],\n",
       "       [-501.42001343,  103.19000244, 1823.82995605],\n",
       "       [-217.25999451,   79.27999878, 1520.56005859],\n",
       "       [-356.47000122,  145.11000061, 1413.56994629],\n",
       "       [ -81.30999756, -174.58000183, 1159.90002441]])"
      ]
     },
     "execution_count": 272,
     "metadata": {},
     "output_type": "execute_result"
    }
   ],
   "source": [
    "an.coordinates"
   ]
  },
  {
   "cell_type": "code",
   "execution_count": 273,
   "metadata": {},
   "outputs": [],
   "source": [
    "current_recons = 0\n",
    "args=(co.antenna_coords_array[current_recons,:],co.peak_time_array[current_recons,:])\n",
    " "
   ]
  },
  {
   "cell_type": "code",
   "execution_count": 274,
   "metadata": {},
   "outputs": [
    {
     "data": {
      "text/plain": [
       "465138775.9523581"
      ]
     },
     "execution_count": 274,
     "metadata": {},
     "output_type": "execute_result"
    }
   ],
   "source": [
    "angles = np.deg2rad(np.array([112.2, 270]))\n",
    "PWF_loss(angles, *args)"
   ]
  },
  {
   "cell_type": "code",
   "execution_count": 275,
   "metadata": {},
   "outputs": [],
   "source": [
    "from scipy.optimize import minimize\n",
    "res = minimize(PWF_loss, angles, args = args, method = 'BFGS')"
   ]
  },
  {
   "cell_type": "code",
   "execution_count": 276,
   "metadata": {},
   "outputs": [
    {
     "data": {
      "text/plain": [
       "22986.163200066367"
      ]
     },
     "execution_count": 276,
     "metadata": {},
     "output_type": "execute_result"
    }
   ],
   "source": [
    "np.rad2deg(res.x)\n",
    "PWF_loss(res.x, *args)\n"
   ]
  },
  {
   "cell_type": "code",
   "execution_count": 277,
   "metadata": {},
   "outputs": [
    {
     "name": "stdout",
     "output_type": "stream",
     "text": [
      " Reading antenna positions from file /Users/mguelfan/Documents/GRAND/ADF_DC2/output_recons_ADF/coord_antennas.txt\n"
     ]
    }
   ],
   "source": [
    "from simulation import Simulations\n",
    "s = Simulations('/Users/mguelfan/Documents/GRAND/ADF_DC2/output_recons_ADF/coord_antennas.txt')\n",
    "s(angles, sigma_t=5e-9)\n"
   ]
  },
  {
   "cell_type": "code",
   "execution_count": 278,
   "metadata": {},
   "outputs": [
    {
     "name": "stdout",
     "output_type": "stream",
     "text": [
      " Reading coincidence(s): index, peak time, peak amplitude from file Rec_coinctable_simulated.txt\n"
     ]
    },
    {
     "data": {
      "text/plain": [
       "64684.99290422533"
      ]
     },
     "execution_count": 278,
     "metadata": {},
     "output_type": "execute_result"
    }
   ],
   "source": [
    "co2 = coincidence_set('Rec_coinctable_simulated.txt', an)\n",
    "args2 =((co2.antenna_coords_array[current_recons,:],co2.peak_time_array[current_recons,:]))\n",
    "PWF_loss(angles, *args2)"
   ]
  },
  {
   "cell_type": "code",
   "execution_count": 279,
   "metadata": {},
   "outputs": [],
   "source": [
    "def logprob(angles, coords, times):\n",
    "    return -0.5*PWF_loss(angles, coords, times)"
   ]
  },
  {
   "cell_type": "code",
   "execution_count": 280,
   "metadata": {},
   "outputs": [],
   "source": [
    "#logprob(co2.peak_time_array[current_recons,:], angles)"
   ]
  },
  {
   "cell_type": "code",
   "execution_count": 281,
   "metadata": {},
   "outputs": [],
   "source": [
    "current_recons = 0\n",
    "ndim, nwalkers = 2, 10 #2dim car 2 angles theta et phi\n",
    "args = (co.antenna_coords_array[current_recons,:], co.peak_time_array[current_recons,:])\n",
    "from emcee import EnsembleSampler\n",
    "sampler = EnsembleSampler(nwalkers, ndim, logprob, args=args)\n",
    "thetas = np.random.rand(10)*np.pi/2 + np.pi/2\n",
    "phis = np.random.rand(10)*2.*np.pi\n",
    "p0 = np.vstack((thetas, phis)).T\n"
   ]
  },
  {
   "cell_type": "code",
   "execution_count": 282,
   "metadata": {},
   "outputs": [
    {
     "data": {
      "text/plain": [
       "State([[2.47337026e+00 1.98381250e-03]\n",
       " [3.89406496e+00 1.57042687e+01]\n",
       " [2.47349836e+00 6.28511879e+00]\n",
       " [3.81345509e+00 9.42351093e+00]\n",
       " [2.47330414e+00 1.97127507e-03]\n",
       " [2.47352218e+00 6.28529587e+00]\n",
       " [2.47344520e+00 6.28518045e+00]\n",
       " [2.47333143e+00 1.88668840e-03]\n",
       " [3.81350150e+00 9.42367568e+00]\n",
       " [2.47358109e+00 6.28517034e+00]], log_prob=[ -11493.50879479 -491636.27445848  -11493.36830361  -12657.738285\n",
       "  -11494.52299995  -11493.73398976  -11493.0829208   -11494.29184674\n",
       "  -12656.48178713  -11494.28111867], blobs=None, random_state=('MT19937', array([ 903976639, 3918408344,  159129790,  259329073, 1355903392,\n",
       "       2149020885,  945605628,  161282373, 3592830224, 3687161473,\n",
       "       3373087030, 1637063499, 1124341947,  403883351, 2979718282,\n",
       "        311497874, 3099779329, 2685080607, 2250760898, 2593454583,\n",
       "        797011580, 1592130219, 3280515369, 3186484188, 2812819661,\n",
       "        390865857,    5459004, 3136259286, 2335628455, 3658058324,\n",
       "       1580227552, 2905762894, 2741981344, 1864065397,  813552152,\n",
       "       3089306451, 4059161109, 3096604327, 3423219303, 3114340101,\n",
       "       1265905097,  954166212,  878079121,  849304974, 4066802041,\n",
       "        581647180,  200790952, 2410248105, 1537718152, 1678246773,\n",
       "       3495121226,  462287931, 3767847929,  222579060,  204302349,\n",
       "       3831741290, 4064676055,   51667390, 3530070744, 2702561682,\n",
       "       1519082910, 1696259186, 2146591655, 2258754210,  433454026,\n",
       "       4003433514, 1250727520, 4285830561, 1642635320, 4135090079,\n",
       "       1846580861, 3647687171, 2200876428, 2920438647, 4189216839,\n",
       "       1955985181, 1373084422, 2423572027, 1332932545, 1539065244,\n",
       "       2421446725, 3469637362, 3783957289, 1970742190, 1682475642,\n",
       "       2441488607, 1309232455,  148054477, 3569501465, 2648510592,\n",
       "        524723994, 3128935680, 1697654838, 1405470991, 1257402928,\n",
       "       1613384815,  751588831,  390972510,  478170292,  582464199,\n",
       "        336013014, 2587465108,  224900318, 3101924899, 3587988871,\n",
       "       4183486765, 1393145353, 3596185170, 1547735926,  910958742,\n",
       "       3703575593, 2603627633,   72067397, 3985717622, 1598204126,\n",
       "       1224683877,  661570459,  475005624, 2991889697,  791674089,\n",
       "       1020682385,  340032478,  325883436, 3658021591, 2312474917,\n",
       "       1739324276, 3474490056,  120781188, 2116578870, 1824996188,\n",
       "       2833450431, 3000427698, 3564893684, 3592689309, 3660643733,\n",
       "       1692362170, 4178563184,  360195171, 1409344961, 1160955326,\n",
       "       2000149425, 2626876937,  679366918, 2310648989, 2838215494,\n",
       "        666374454,  951395034, 1029543874, 1645540237, 2724382861,\n",
       "        432304091,  952023721, 2351948111, 2387574696, 1026540037,\n",
       "        998325493,  208468105, 2741807484, 3476866172, 2256082748,\n",
       "       2121400781,  846271290, 3898998036, 3961518698, 1482471386,\n",
       "        365726039,  889176083, 3142405959,  203212959,  196775829,\n",
       "        346663291, 3318532557, 2163275691, 2538190646, 4052043348,\n",
       "       2425362931, 1884580625,  171462250, 1760096537, 1551879860,\n",
       "       3136573475,  675552598,  954746206, 3871942709, 3161603186,\n",
       "        530960287, 3711132689,  274730275, 3980196397, 1322565652,\n",
       "       2046940601, 3683423385,  690840235, 2959247297, 2561391360,\n",
       "       1830815575, 4119243325, 4274266559, 2138086991, 2839156574,\n",
       "        228107613, 1078677699, 2961704314, 2007228952, 4049451730,\n",
       "       3689365667, 2394354525, 3414687698, 3919636129, 2648057457,\n",
       "       4230423748, 4245292345,  832666745, 3637664335, 2345288287,\n",
       "       2623426055, 3358037470,  469701096, 4204312561, 3607851432,\n",
       "       2061869182, 1770886101, 1675258230,  505409234,  927463087,\n",
       "       2166908069, 4010143400, 3929014363, 1498540082, 1981916598,\n",
       "        456264482, 3992926083,  234996690,  184142990, 2833261823,\n",
       "        461017586, 2336899462, 3381500330, 1006447486,  781710773,\n",
       "       3467115795, 1866344123, 3909906442, 2535222750,  208025147,\n",
       "         59444880, 1666113983, 2049242447,  328601123, 2832039330,\n",
       "       2287770670, 2747363107, 2482287132, 1617872502, 3167708491,\n",
       "       3699688593, 3379414991, 3502546845, 3473001843, 3517785710,\n",
       "        138515311, 3593531322, 1279552796, 3956327834, 1414755534,\n",
       "       1159878229, 3021156560, 2129724796, 2754821106,  951781021,\n",
       "       1321354280, 2497358127, 1597490762, 3404909827, 4142023245,\n",
       "       1782362017,  403819163,  137951742, 3178682364, 4177752400,\n",
       "        194009566, 3582262834, 2823531046, 3425973543, 2214689038,\n",
       "       4129951007, 2174014110,  312621786, 3864106034,   57887197,\n",
       "       2866215216, 2182622310,  364411415,  431833148, 3198625675,\n",
       "       3608977226, 1586845563,  828011707, 3968546744, 2391349531,\n",
       "        125507383, 1513990696, 2299352804, 2959588593, 4159757291,\n",
       "        559968218, 3319309121, 2220572902, 2627979588, 3359513471,\n",
       "       1402402959, 3528985661, 1736043108,  866873293,  136989810,\n",
       "        518288675, 1199155354, 3156474184, 3361180915, 3816049402,\n",
       "       4072990971, 1432544649, 3495831819, 3382921106, 3084441656,\n",
       "       3387373443, 3351021042,  166292492, 1259038211,   63818868,\n",
       "        376832959,  991754351, 3404796968, 2562529772, 1823318970,\n",
       "       2382020139, 4086858263, 3977704092, 3169480257, 1244846903,\n",
       "       1029192632, 3137394002, 1878329960, 3765643254,   83447175,\n",
       "       3862283751, 1360954480, 1420458620, 1766536442, 1828296033,\n",
       "       1651529822,  691022254, 4046549323,   32529554,  642830350,\n",
       "       4174585117, 1101607274, 1176747278, 4217046643, 3008539979,\n",
       "       3129807356, 2577394991,  828320678, 2223298271, 1441701359,\n",
       "       2166163320, 1314418488, 2109485669,  585767568, 2825547629,\n",
       "       2226152267, 3358315923,  658884806, 2538628316, 3332850814,\n",
       "       1913914769,  943385162, 3931796968, 2051394526, 1804998559,\n",
       "       3579857637,  708650236, 2902489796, 2696366724, 2183526798,\n",
       "       3264526626,  417459967, 1524449724, 1691212949, 3540697602,\n",
       "       2361373899, 2287362904, 1799651396,  336765519, 1744624876,\n",
       "       4069686833, 3024646782, 1473613168,  241921036, 2157461533,\n",
       "       3883957196, 3374534211, 1446903186,   21016179, 2618093212,\n",
       "        430699759, 2496025523, 3371535042, 1273489895, 1591449423,\n",
       "       3025558061,  225476482, 3895169331, 4283393156, 3162096583,\n",
       "        942657198, 3486154404, 3150136870,  944709091,  747729011,\n",
       "       1627283119, 3349401805,  800208682, 1943775271, 4127066658,\n",
       "       3188861802,  941175823, 1570941596,  642489321,  925925965,\n",
       "        842302153, 1903715800, 2107087632, 2278177623,  638129856,\n",
       "       2981836387, 4196059699, 3805058001, 3974183623, 3836513424,\n",
       "        172661978, 2988836163,  595820920,  705268621, 1532711057,\n",
       "       2588347074, 1370114973, 3976171379, 3192482724, 3488215834,\n",
       "       2108380718, 1832787441,  286856118, 3219210248, 1363620779,\n",
       "        545561469, 1860820829, 2249973440, 3128617328, 2282046103,\n",
       "       1989437092, 1328587836, 1880890133,  704510938, 1812932968,\n",
       "       4038346052, 1646673838, 3265697359, 3796979178, 1635969028,\n",
       "       1389695137, 2366514306, 1948878827, 3253652090, 2050341514,\n",
       "        335367148,  914430103, 2531603446, 1811418267, 1113811660,\n",
       "        311464337, 2098215319, 2248757638, 2403668404, 1731538620,\n",
       "       2387546374,  387384486, 3515159045, 1075226302, 2443201468,\n",
       "       3660431964,  887677325, 3761873258, 1611350504, 1843919377,\n",
       "       2613567957, 3481040280, 1958535182, 3289820630, 2841072768,\n",
       "       2726795149, 2527686445, 2592256734, 3985992722, 3474951006,\n",
       "       1864137699, 1386690520, 1606431223, 2292081437, 3271793281,\n",
       "       1523970334, 3680954161, 4107167738, 2957967433, 2822242434,\n",
       "        182932503, 1050638156, 2420002592, 3380926432, 1650765176,\n",
       "       2091867955, 3142781795, 3424045818,  221526784, 3068743406,\n",
       "        346651583,  136102722, 3100468579, 1239783698, 2117492353,\n",
       "       2525365115, 2078271000, 1638989906, 3958927804,  406338130,\n",
       "        293977741, 3360855665, 1483024140, 2563258312, 2693348375,\n",
       "        168936441, 2028553462, 2226451275, 1355411825, 2213562447,\n",
       "        236068811, 1083804218, 1029182963, 2791746656, 1059664640,\n",
       "       2336285887, 4077776773, 1019159339, 1742974902, 2803062478,\n",
       "       3850102854, 2982126896, 3290165748, 1148438736, 2985697751,\n",
       "       1022026001, 1011677576,  636124345,  223784266, 3391738333,\n",
       "        294250561, 4202066307, 4106600549, 3676333360, 4189115166,\n",
       "       3471466438,  626559247, 3891388562, 1541421597, 2561989845,\n",
       "       4277890982, 1257861580,  986124895,  394734033,  223414365,\n",
       "       3358689555, 1849546808,  733980223,  121077669, 1011482791,\n",
       "       4053378867, 1061952518,  694940204,  270847005, 3441869198,\n",
       "       2922973424, 1207293014,  976869562, 2454483736, 2890429383,\n",
       "       2434530915, 2938379044,   32392921,  731657244, 4137653484,\n",
       "       2263522492, 3258463007, 2362604355, 1063788263, 4039126303,\n",
       "       3125785183, 2347410068,  940573141,  843340094, 3934283786,\n",
       "        104266615, 1071889231, 1424641388,  390372758, 2767583561,\n",
       "       1041423549, 3296224384, 1563593945, 1684201084, 1274734938,\n",
       "         18941120,  507011452,  361856742,  934283774], dtype=uint32), 156, 0, 0.0))"
      ]
     },
     "execution_count": 282,
     "metadata": {},
     "output_type": "execute_result"
    }
   ],
   "source": [
    "state  = sampler.run_mcmc(p0, 100)\n",
    "sampler.reset()\n",
    "sampler.run_mcmc(state, 10000)"
   ]
  },
  {
   "cell_type": "code",
   "execution_count": 283,
   "metadata": {},
   "outputs": [
    {
     "name": "stdout",
     "output_type": "stream",
     "text": [
      "peak value in degree: theta = 141.719415, phi = 0.115373\n",
      "[1.41719415e+02 1.15372825e-01]\n"
     ]
    },
    {
     "data": {
      "image/png": "[encoded data removed]",
      "text/plain": [
       "<Figure size 640x480 with 2 Axes>"
      ]
     },
     "metadata": {},
     "output_type": "display_data"
    }
   ],
   "source": [
    "\n",
    "import math\n",
    "samples = sampler.get_chain(flat=True, thin=25)\n",
    "logprobs = sampler.get_log_prob(flat=True, thin=25)\n",
    "mask= (samples[:,0]>np.pi/2)*(samples[:,0]<np.pi)*(samples[:,1]>0)*(samples[:,1]<2*np.pi)\n",
    "med = np.median(samples[mask,:], axis=0)\n",
    "onedeg = np.deg2rad(1)\n",
    "plt.hist2d((samples[mask,0]), (samples[mask,1]), bins=100, range = [[med[0]-onedeg, med[0]+onedeg], [med[1]-onedeg, med[1] +onedeg]])\n",
    "#plt.hist2d(p0[:,0], p0[:,1]) #points de départ\n",
    "plt.colorbar()\n",
    "print('peak value in degree: theta = %f, phi = %f'%tuple(np.rad2deg(med)))\n",
    "print(np.rad2deg(med))\n",
    "file_path = '/Users/mguelfan/Documents/GRAND/ADF_DC2/output_recons_ADF/plane_wave_convergence_MCMC.txt'\n",
    "with open(file_path, 'a') as file:\n",
    "    if np.rad2deg(med[1]) >= 180:\n",
    "        phi_degree = round(np.rad2deg(med[1],0))\n",
    "        file.write(f\" {np.rad2deg(med[0]):.1f} {np.rad2deg(med[1]):.1f} {180-np.rad2deg(med[0]):.1f} {phi_degree-180:.1f}\\n\")\n",
    "    else :\n",
    "        phi_degree = np.rad2deg(med[1]) - 180\n",
    "        phi_degree = round(phi_degree,0)\n",
    "        phi_radian =  math.radians(phi_degree)\n",
    "        phi_radian = phi_radian % (2*math.pi)\n",
    "        phi_degree_final = round(np.rad2deg(phi_radian),-1)\n",
    "        file.write(f\" {np.rad2deg(med[0]):.1f} {np.rad2deg(med[1]):.1f} {180-np.rad2deg(med[0]):.1f} {phi_degree_final:.1f}\\n\")\n",
    "\n"
   ]
  },
  {
   "cell_type": "code",
   "execution_count": 243,
   "metadata": {},
   "outputs": [
    {
     "name": "stdout",
     "output_type": "stream",
     "text": [
      "Angle en degrés: 179\n",
      "Angle en radians: -0.017453292519943295\n",
      "Résultat (angle modulo pi): 359.0\n"
     ]
    }
   ],
   "source": [
    "import math\n",
    "\n",
    "# Angle en degrés\n",
    "angle_degrees = 179\n",
    "\n",
    "# Conversion en radians\n",
    "if angle_degrees >= 180:\n",
    "    result = angle_degrees - 180\n",
    "else:\n",
    "    angle_degreesbis = angle_degrees - 180\n",
    "    angle_radians = math.radians(angle_degreesbis)\n",
    "    result = angle_radians % (2*math.pi)\n",
    "    result = np.rad2deg(result)\n",
    "\n",
    "print(\"Angle en degrés:\", angle_degrees)\n",
    "print(\"Angle en radians:\", angle_radians)\n",
    "print(\"Résultat (angle modulo pi):\",result)"
   ]
  },
  {
   "cell_type": "code",
   "execution_count": 228,
   "metadata": {},
   "outputs": [
    {
     "name": "stdout",
     "output_type": "stream",
     "text": [
      "45\n"
     ]
    }
   ],
   "source": [
    "print(225-180)"
   ]
  },
  {
   "cell_type": "code",
   "execution_count": null,
   "metadata": {},
   "outputs": [],
   "source": []
  }
 ],
 "metadata": {
  "kernelspec": {
   "display_name": "Python 3",
   "language": "python",
   "name": "python3"
  },
  "language_info": {
   "codemirror_mode": {
    "name": "ipython",
    "version": 3
   },
   "file_extension": ".py",
   "mimetype": "text/x-python",
   "name": "python",
   "nbconvert_exporter": "python",
   "pygments_lexer": "ipython3",
   "version": "3.11.4"
  },
  "orig_nbformat": 4
 },
 "nbformat": 4,
 "nbformat_minor": 2
}
